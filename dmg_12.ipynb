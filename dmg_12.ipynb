{
 "cells": [
  {
   "cell_type": "code",
   "execution_count": 1,
   "metadata": {},
   "outputs": [],
   "source": [
    "import numpy as  np\n",
    "import pandas as pd\n",
    "import json"
   ]
  },
  {
   "cell_type": "code",
   "execution_count": 3,
   "metadata": {},
   "outputs": [],
   "source": [
    "#Opening Json Data\n",
    "with open('states_daily.json') as f:\n",
    "    states_daily = json.load(f)"
   ]
  },
  {
   "cell_type": "code",
   "execution_count": 4,
   "metadata": {
    "tags": []
   },
   "outputs": [
    {
     "output_type": "stream",
     "name": "stdout",
     "text": "dict_keys(['an', 'ap', 'ar', 'as', 'br', 'ch', 'ct', 'date', 'dd', 'dl', 'dn', 'ga', 'gj', 'hp', 'hr', 'jh', 'jk', 'ka', 'kl', 'la', 'ld', 'mh', 'ml', 'mn', 'mp', 'mz', 'nl', 'or', 'pb', 'py', 'rj', 'sk', 'status', 'tg', 'tn', 'tr', 'tt', 'un', 'up', 'ut', 'wb'])\n['an', 'ap', 'ar', 'as', 'br', 'ch', 'ct', 'date', 'dd', 'dl', 'dn', 'ga', 'gj', 'hp', 'hr', 'jh', 'jk', 'ka', 'kl', 'la', 'ld', 'mh', 'ml', 'mn', 'mp', 'mz', 'nl', 'or', 'pb', 'py', 'rj', 'sk', 'status', 'tg', 'tn', 'tr', 'tt', 'un', 'up', 'ut', 'wb']\n"
    },
    {
     "output_type": "execute_result",
     "data": {
      "text/plain": "  an ap ar as br ch ct       date dd dl  ... sk     status tg tn tr  tt un  \\\n0  0  1  0  0  0  0  0  14-Mar-20  0  7  ...  0  Confirmed  1  1  0  81  0   \n1  0  0  0  0  0  0  0  14-Mar-20  0  1  ...  0  Recovered  0  0  0   9  0   \n2  0  0  0  0  0  0  0  14-Mar-20  0  1  ...  0   Deceased  0  0  0   2  0   \n3  0  0  0  0  0  0  0  15-Mar-20  0  0  ...  0  Confirmed  2  0  0  27  0   \n4  0  0  0  0  0  0  0  15-Mar-20  0  1  ...  0  Recovered  1  0  0   4  0   \n\n   up ut wb  \n0  12  0  0  \n1   4  0  0  \n2   0  0  0  \n3   1  0  0  \n4   0  0  0  \n\n[5 rows x 41 columns]",
      "text/html": "<div>\n<style scoped>\n    .dataframe tbody tr th:only-of-type {\n        vertical-align: middle;\n    }\n\n    .dataframe tbody tr th {\n        vertical-align: top;\n    }\n\n    .dataframe thead th {\n        text-align: right;\n    }\n</style>\n<table border=\"1\" class=\"dataframe\">\n  <thead>\n    <tr style=\"text-align: right;\">\n      <th></th>\n      <th>an</th>\n      <th>ap</th>\n      <th>ar</th>\n      <th>as</th>\n      <th>br</th>\n      <th>ch</th>\n      <th>ct</th>\n      <th>date</th>\n      <th>dd</th>\n      <th>dl</th>\n      <th>...</th>\n      <th>sk</th>\n      <th>status</th>\n      <th>tg</th>\n      <th>tn</th>\n      <th>tr</th>\n      <th>tt</th>\n      <th>un</th>\n      <th>up</th>\n      <th>ut</th>\n      <th>wb</th>\n    </tr>\n  </thead>\n  <tbody>\n    <tr>\n      <th>0</th>\n      <td>0</td>\n      <td>1</td>\n      <td>0</td>\n      <td>0</td>\n      <td>0</td>\n      <td>0</td>\n      <td>0</td>\n      <td>14-Mar-20</td>\n      <td>0</td>\n      <td>7</td>\n      <td>...</td>\n      <td>0</td>\n      <td>Confirmed</td>\n      <td>1</td>\n      <td>1</td>\n      <td>0</td>\n      <td>81</td>\n      <td>0</td>\n      <td>12</td>\n      <td>0</td>\n      <td>0</td>\n    </tr>\n    <tr>\n      <th>1</th>\n      <td>0</td>\n      <td>0</td>\n      <td>0</td>\n      <td>0</td>\n      <td>0</td>\n      <td>0</td>\n      <td>0</td>\n      <td>14-Mar-20</td>\n      <td>0</td>\n      <td>1</td>\n      <td>...</td>\n      <td>0</td>\n      <td>Recovered</td>\n      <td>0</td>\n      <td>0</td>\n      <td>0</td>\n      <td>9</td>\n      <td>0</td>\n      <td>4</td>\n      <td>0</td>\n      <td>0</td>\n    </tr>\n    <tr>\n      <th>2</th>\n      <td>0</td>\n      <td>0</td>\n      <td>0</td>\n      <td>0</td>\n      <td>0</td>\n      <td>0</td>\n      <td>0</td>\n      <td>14-Mar-20</td>\n      <td>0</td>\n      <td>1</td>\n      <td>...</td>\n      <td>0</td>\n      <td>Deceased</td>\n      <td>0</td>\n      <td>0</td>\n      <td>0</td>\n      <td>2</td>\n      <td>0</td>\n      <td>0</td>\n      <td>0</td>\n      <td>0</td>\n    </tr>\n    <tr>\n      <th>3</th>\n      <td>0</td>\n      <td>0</td>\n      <td>0</td>\n      <td>0</td>\n      <td>0</td>\n      <td>0</td>\n      <td>0</td>\n      <td>15-Mar-20</td>\n      <td>0</td>\n      <td>0</td>\n      <td>...</td>\n      <td>0</td>\n      <td>Confirmed</td>\n      <td>2</td>\n      <td>0</td>\n      <td>0</td>\n      <td>27</td>\n      <td>0</td>\n      <td>1</td>\n      <td>0</td>\n      <td>0</td>\n    </tr>\n    <tr>\n      <th>4</th>\n      <td>0</td>\n      <td>0</td>\n      <td>0</td>\n      <td>0</td>\n      <td>0</td>\n      <td>0</td>\n      <td>0</td>\n      <td>15-Mar-20</td>\n      <td>0</td>\n      <td>1</td>\n      <td>...</td>\n      <td>0</td>\n      <td>Recovered</td>\n      <td>1</td>\n      <td>0</td>\n      <td>0</td>\n      <td>4</td>\n      <td>0</td>\n      <td>0</td>\n      <td>0</td>\n      <td>0</td>\n    </tr>\n  </tbody>\n</table>\n<p>5 rows × 41 columns</p>\n</div>"
     },
     "metadata": {},
     "execution_count": 4
    }
   ],
   "source": [
    "#Preparing Data Frame\n",
    "print(states_daily['states_daily'][0].keys())\n",
    "#Getting Columns\n",
    "columnNames = list(states_daily['states_daily'][0].keys())\n",
    "print(columnNames)\n",
    "len(states_daily['states_daily'])\n",
    "#Getting Each Instanes\n",
    "rows = [list(states_daily['states_daily'][i].values()) for i in range(len(states_daily['states_daily']))]\n",
    "rowsArray = np.array(rows)\n",
    "dataframe = pd.DataFrame(data= rowsArray, columns= columnNames)\n",
    "dataframe.head(5)"
   ]
  },
  {
   "cell_type": "code",
   "execution_count": 9,
   "metadata": {},
   "outputs": [
    {
     "output_type": "execute_result",
     "data": {
      "text/plain": "    an  ap  ar  as  br  ch  ct       date  dd  dl  ...  sk    status  tg  tn  \\\n2    0   0   0   0   0   0   0 2020-03-14   0   1  ...   0  Deceased   0   0   \n5    0   0   0   0   0   0   0 2020-03-15   0   0  ...   0  Deceased   0   0   \n8    0   0   0   0   0   0   0 2020-03-16   0   0  ...   0  Deceased   0   0   \n11   0   0   0   0   0   0   0 2020-03-17   0   0  ...   0  Deceased   0   0   \n14   0   0   0   0   0   0   0 2020-03-18   0   0  ...   0  Deceased   0   0   \n\n    tr  tt  un  up  ut  wb  \n2    0   2   0   0   0   0  \n5    0   0   0   0   0   0  \n8    0   0   0   0   0   0  \n11   0   1   0   0   0   0  \n14   0   0   0   0   0   0  \n\n[5 rows x 41 columns]",
      "text/html": "<div>\n<style scoped>\n    .dataframe tbody tr th:only-of-type {\n        vertical-align: middle;\n    }\n\n    .dataframe tbody tr th {\n        vertical-align: top;\n    }\n\n    .dataframe thead th {\n        text-align: right;\n    }\n</style>\n<table border=\"1\" class=\"dataframe\">\n  <thead>\n    <tr style=\"text-align: right;\">\n      <th></th>\n      <th>an</th>\n      <th>ap</th>\n      <th>ar</th>\n      <th>as</th>\n      <th>br</th>\n      <th>ch</th>\n      <th>ct</th>\n      <th>date</th>\n      <th>dd</th>\n      <th>dl</th>\n      <th>...</th>\n      <th>sk</th>\n      <th>status</th>\n      <th>tg</th>\n      <th>tn</th>\n      <th>tr</th>\n      <th>tt</th>\n      <th>un</th>\n      <th>up</th>\n      <th>ut</th>\n      <th>wb</th>\n    </tr>\n  </thead>\n  <tbody>\n    <tr>\n      <th>2</th>\n      <td>0</td>\n      <td>0</td>\n      <td>0</td>\n      <td>0</td>\n      <td>0</td>\n      <td>0</td>\n      <td>0</td>\n      <td>2020-03-14</td>\n      <td>0</td>\n      <td>1</td>\n      <td>...</td>\n      <td>0</td>\n      <td>Deceased</td>\n      <td>0</td>\n      <td>0</td>\n      <td>0</td>\n      <td>2</td>\n      <td>0</td>\n      <td>0</td>\n      <td>0</td>\n      <td>0</td>\n    </tr>\n    <tr>\n      <th>5</th>\n      <td>0</td>\n      <td>0</td>\n      <td>0</td>\n      <td>0</td>\n      <td>0</td>\n      <td>0</td>\n      <td>0</td>\n      <td>2020-03-15</td>\n      <td>0</td>\n      <td>0</td>\n      <td>...</td>\n      <td>0</td>\n      <td>Deceased</td>\n      <td>0</td>\n      <td>0</td>\n      <td>0</td>\n      <td>0</td>\n      <td>0</td>\n      <td>0</td>\n      <td>0</td>\n      <td>0</td>\n    </tr>\n    <tr>\n      <th>8</th>\n      <td>0</td>\n      <td>0</td>\n      <td>0</td>\n      <td>0</td>\n      <td>0</td>\n      <td>0</td>\n      <td>0</td>\n      <td>2020-03-16</td>\n      <td>0</td>\n      <td>0</td>\n      <td>...</td>\n      <td>0</td>\n      <td>Deceased</td>\n      <td>0</td>\n      <td>0</td>\n      <td>0</td>\n      <td>0</td>\n      <td>0</td>\n      <td>0</td>\n      <td>0</td>\n      <td>0</td>\n    </tr>\n    <tr>\n      <th>11</th>\n      <td>0</td>\n      <td>0</td>\n      <td>0</td>\n      <td>0</td>\n      <td>0</td>\n      <td>0</td>\n      <td>0</td>\n      <td>2020-03-17</td>\n      <td>0</td>\n      <td>0</td>\n      <td>...</td>\n      <td>0</td>\n      <td>Deceased</td>\n      <td>0</td>\n      <td>0</td>\n      <td>0</td>\n      <td>1</td>\n      <td>0</td>\n      <td>0</td>\n      <td>0</td>\n      <td>0</td>\n    </tr>\n    <tr>\n      <th>14</th>\n      <td>0</td>\n      <td>0</td>\n      <td>0</td>\n      <td>0</td>\n      <td>0</td>\n      <td>0</td>\n      <td>0</td>\n      <td>2020-03-18</td>\n      <td>0</td>\n      <td>0</td>\n      <td>...</td>\n      <td>0</td>\n      <td>Deceased</td>\n      <td>0</td>\n      <td>0</td>\n      <td>0</td>\n      <td>0</td>\n      <td>0</td>\n      <td>0</td>\n      <td>0</td>\n      <td>0</td>\n    </tr>\n  </tbody>\n</table>\n<p>5 rows × 41 columns</p>\n</div>"
     },
     "metadata": {},
     "execution_count": 9
    }
   ],
   "source": [
    "#Preprocessing of Data\n",
    "arr = columnNames[0:]\n",
    "arr.remove('date')\n",
    "arr.remove('status')\n",
    "for item in arr:\n",
    "    dataframe[item] = dataframe[item].astype(int)\n",
    "\n",
    "dataframe['date'] = pd.to_datetime(dataframe['date'])\n",
    "filterStatusConfirmed = dataframe.loc[dataframe['status'] == 'Confirmed']\n",
    "filterStatusRecovered = dataframe.loc[dataframe['status'] == 'Recovered']\n",
    "filterStatusDeceased = dataframe.loc[dataframe['status'] == 'Deceased']\n",
    "#filterStatusDeceased.head(5)"
   ]
  },
  {
   "cell_type": "code",
   "execution_count": 18,
   "metadata": {
    "tags": []
   },
   "outputs": [
    {
     "output_type": "stream",
     "name": "stdout",
     "text": "an  ap  ar  as  br  ch  ct       date  dd  dl  ...  sk     status  tg  tn  \\\n1    0   0   0   0   0   0   0 2020-03-14   0   1  ...   0  Recovered   0   0   \n4    0   0   0   0   0   0   0 2020-03-15   0   1  ...   0  Recovered   1   0   \n7    0   0   0   0   0   0   0 2020-03-16   0   0  ...   0  Recovered   0   1   \n10   0   0   0   0   0   0   0 2020-03-17   0   0  ...   0  Recovered   0   0   \n13   0   0   0   0   0   0   0 2020-03-18   0   0  ...   0  Recovered   0   0   \n\n    tr  tt  un  up  ut  wb  \n1    0   9   0   4   0   0  \n4    0   4   0   0   0   0  \n7    0   1   0   0   0   0  \n10   0   1   0   1   0   0  \n13   0   0   0   0   0   0  \n\n[5 rows x 41 columns]\nConfirmed:4110211 \nRecovered : 3177666\nDeceased : 70094\n"
    }
   ],
   "source": [
    "#Answer1_1  (If we get date from user and pass that date while comparing it is genralized)\n",
    "marchToSept1_Confirmed = filterStatusConfirmed[(filterStatusConfirmed['date'] >= '2020-03-14') & (filterStatusConfirmed['date'] <= '2020-09-05')]\n",
    "marchToSept1_Recovered= filterStatusRecovered[(filterStatusRecovered['date'] >= '2020-03-14') & (filterStatusRecovered['date'] <= '2020-09-05')]\n",
    "marchToSept1_Deceased = filterStatusDeceased[(filterStatusDeceased['date'] >= '2020-03-14') & (filterStatusDeceased['date'] <= '2020-09-05')]\n",
    "print(\"Confirmed:{0} \\nRecovered : {1}\\nDeceased : {2}\".format(marchToSept1_Confirmed['tt'].sum() , marchToSept1_Recovered['tt'].sum() , marchToSept1_Deceased['tt'].sum() ))"
   ]
  },
  {
   "cell_type": "code",
   "execution_count": 20,
   "metadata": {
    "scrolled": true,
    "tags": []
   },
   "outputs": [
    {
     "output_type": "stream",
     "name": "stdout",
     "text": "Confirmed:188193 \nRecovered : 163785\nDeceased : 4538\n"
    }
   ],
   "source": [
    "#Answer1_2\n",
    "print(\"Confirmed:{0} \\nRecovered : {1}\\nDeceased : {2}\".format(marchToSept1_Confirmed['dl'].sum() , marchToSept1_Recovered['dl'].sum() , marchToSept1_Deceased['dl'].sum() ))"
   ]
  },
  {
   "cell_type": "code",
   "execution_count": 23,
   "metadata": {
    "tags": []
   },
   "outputs": [
    {
     "output_type": "stream",
     "name": "stdout",
     "text": "Total Confirmed Cases in Delhi and Maharashtra  = 1072055\n Total Confirmed Cases in Delhi and Maharashtra  = 800359\n Total Confirmed Cases in Delhi and Maharashtra  = 30813\n"
    }
   ],
   "source": [
    "#Answer1_3\n",
    "print(\" Total Confirmed Cases in Delhi and Maharashtra  = {}\".format(marchToSept1_Confirmed['dl'].sum() + marchToSept1_Confirmed['mh'].sum()))\n",
    "print(\" Total Recovered Cases in Delhi and Maharashtra  = {}\".format(marchToSept1_Recovered['dl'].sum() + marchToSept1_Recovered['mh'].sum()))\n",
    "print(\" Total Deceased Cases in Delhi and Maharashtra  = {}\".format(marchToSept1_Deceased['dl'].sum() + marchToSept1_Deceased['mh'].sum()))\n",
    "\n"
   ]
  },
  {
   "cell_type": "code",
   "execution_count": 19,
   "metadata": {},
   "outputs": [
    {
     "name": "stdout",
     "output_type": "stream",
     "text": [
      "Delhi + Maharashtra = 1072055\n"
     ]
    }
   ],
   "source": [
    "print(\"Delhi + Maharashtra = {}\".format(marchToSept1['dl'].sum() + marchToSept1['mh'].sum()))"
   ]
  },
  {
   "cell_type": "code",
   "execution_count": 20,
   "metadata": {},
   "outputs": [],
   "source": [
    "arr.remove('tt')"
   ]
  },
  {
   "cell_type": "code",
   "execution_count": 21,
   "metadata": {},
   "outputs": [],
   "source": [
    "max = 0\n",
    "state = ''\n",
    "for item in arr:\n",
    "    count = marchToSept1[item].sum()\n",
    "    if count > max:\n",
    "        max = count\n",
    "        state = item"
   ]
  },
  {
   "cell_type": "code",
   "execution_count": 22,
   "metadata": {},
   "outputs": [
    {
     "name": "stdout",
     "output_type": "stream",
     "text": [
      "Max cases are from state 'mh' and count is 883862\n"
     ]
    }
   ],
   "source": [
    "print(\"Max cases are from state '{}' and count is {}\".format(state, max))"
   ]
  },
  {
   "cell_type": "code",
   "execution_count": null,
   "metadata": {},
   "outputs": [],
   "source": []
  },
  {
   "cell_type": "code",
   "execution_count": null,
   "metadata": {},
   "outputs": [],
   "source": []
  },
  {
   "cell_type": "code",
   "execution_count": null,
   "metadata": {},
   "outputs": [],
   "source": []
  },
  {
   "cell_type": "code",
   "execution_count": null,
   "metadata": {},
   "outputs": [],
   "source": []
  },
  {
   "cell_type": "code",
   "execution_count": null,
   "metadata": {},
   "outputs": [],
   "source": []
  },
  {
   "cell_type": "code",
   "execution_count": null,
   "metadata": {},
   "outputs": [],
   "source": []
  },
  {
   "cell_type": "code",
   "execution_count": null,
   "metadata": {},
   "outputs": [],
   "source": []
  }
 ],
 "metadata": {
  "kernelspec": {
   "display_name": "Python 3",
   "language": "python",
   "name": "python3"
  },
  "language_info": {
   "codemirror_mode": {
    "name": "ipython",
    "version": 3
   },
   "file_extension": ".py",
   "mimetype": "text/x-python",
   "name": "python",
   "nbconvert_exporter": "python",
   "pygments_lexer": "ipython3",
   "version": "3.8.5-final"
  }
 },
 "nbformat": 4,
 "nbformat_minor": 2
}