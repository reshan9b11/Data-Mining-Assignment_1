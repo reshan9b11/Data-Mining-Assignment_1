{
 "cells": [
  {
   "cell_type": "code",
   "execution_count": 1,
   "metadata": {},
   "outputs": [],
   "source": [
    "import numpy as  np\n",
    "import pandas as pd\n",
    "import json"
   ]
  },
  {
   "cell_type": "code",
   "execution_count": 3,
   "metadata": {},
   "outputs": [],
   "source": [
    "#Opening Json Data\n",
    "with open('states_daily.json') as f:\n",
    "    states_daily = json.load(f)"
   ]
  },
  {
   "cell_type": "code",
   "execution_count": 93,
   "metadata": {
    "tags": []
   },
   "outputs": [
    {
     "output_type": "stream",
     "name": "stdout",
     "text": "dict_keys(['an', 'ap', 'ar', 'as', 'br', 'ch', 'ct', 'date', 'dd', 'dl', 'dn', 'ga', 'gj', 'hp', 'hr', 'jh', 'jk', 'ka', 'kl', 'la', 'ld', 'mh', 'ml', 'mn', 'mp', 'mz', 'nl', 'or', 'pb', 'py', 'rj', 'sk', 'status', 'tg', 'tn', 'tr', 'tt', 'un', 'up', 'ut', 'wb'])\n['an', 'ap', 'ar', 'as', 'br', 'ch', 'ct', 'date', 'dd', 'dl', 'dn', 'ga', 'gj', 'hp', 'hr', 'jh', 'jk', 'ka', 'kl', 'la', 'ld', 'mh', 'ml', 'mn', 'mp', 'mz', 'nl', 'or', 'pb', 'py', 'rj', 'sk', 'status', 'tg', 'tn', 'tr', 'tt', 'un', 'up', 'ut', 'wb']\n"
    },
    {
     "output_type": "execute_result",
     "data": {
      "text/plain": "  an ap ar as br ch ct       date dd dl  ... sk     status tg tn tr  tt un  \\\n0  0  1  0  0  0  0  0  14-Mar-20  0  7  ...  0  Confirmed  1  1  0  81  0   \n1  0  0  0  0  0  0  0  14-Mar-20  0  1  ...  0  Recovered  0  0  0   9  0   \n2  0  0  0  0  0  0  0  14-Mar-20  0  1  ...  0   Deceased  0  0  0   2  0   \n3  0  0  0  0  0  0  0  15-Mar-20  0  0  ...  0  Confirmed  2  0  0  27  0   \n4  0  0  0  0  0  0  0  15-Mar-20  0  1  ...  0  Recovered  1  0  0   4  0   \n\n   up ut wb  \n0  12  0  0  \n1   4  0  0  \n2   0  0  0  \n3   1  0  0  \n4   0  0  0  \n\n[5 rows x 41 columns]",
      "text/html": "<div>\n<style scoped>\n    .dataframe tbody tr th:only-of-type {\n        vertical-align: middle;\n    }\n\n    .dataframe tbody tr th {\n        vertical-align: top;\n    }\n\n    .dataframe thead th {\n        text-align: right;\n    }\n</style>\n<table border=\"1\" class=\"dataframe\">\n  <thead>\n    <tr style=\"text-align: right;\">\n      <th></th>\n      <th>an</th>\n      <th>ap</th>\n      <th>ar</th>\n      <th>as</th>\n      <th>br</th>\n      <th>ch</th>\n      <th>ct</th>\n      <th>date</th>\n      <th>dd</th>\n      <th>dl</th>\n      <th>...</th>\n      <th>sk</th>\n      <th>status</th>\n      <th>tg</th>\n      <th>tn</th>\n      <th>tr</th>\n      <th>tt</th>\n      <th>un</th>\n      <th>up</th>\n      <th>ut</th>\n      <th>wb</th>\n    </tr>\n  </thead>\n  <tbody>\n    <tr>\n      <th>0</th>\n      <td>0</td>\n      <td>1</td>\n      <td>0</td>\n      <td>0</td>\n      <td>0</td>\n      <td>0</td>\n      <td>0</td>\n      <td>14-Mar-20</td>\n      <td>0</td>\n      <td>7</td>\n      <td>...</td>\n      <td>0</td>\n      <td>Confirmed</td>\n      <td>1</td>\n      <td>1</td>\n      <td>0</td>\n      <td>81</td>\n      <td>0</td>\n      <td>12</td>\n      <td>0</td>\n      <td>0</td>\n    </tr>\n    <tr>\n      <th>1</th>\n      <td>0</td>\n      <td>0</td>\n      <td>0</td>\n      <td>0</td>\n      <td>0</td>\n      <td>0</td>\n      <td>0</td>\n      <td>14-Mar-20</td>\n      <td>0</td>\n      <td>1</td>\n      <td>...</td>\n      <td>0</td>\n      <td>Recovered</td>\n      <td>0</td>\n      <td>0</td>\n      <td>0</td>\n      <td>9</td>\n      <td>0</td>\n      <td>4</td>\n      <td>0</td>\n      <td>0</td>\n    </tr>\n    <tr>\n      <th>2</th>\n      <td>0</td>\n      <td>0</td>\n      <td>0</td>\n      <td>0</td>\n      <td>0</td>\n      <td>0</td>\n      <td>0</td>\n      <td>14-Mar-20</td>\n      <td>0</td>\n      <td>1</td>\n      <td>...</td>\n      <td>0</td>\n      <td>Deceased</td>\n      <td>0</td>\n      <td>0</td>\n      <td>0</td>\n      <td>2</td>\n      <td>0</td>\n      <td>0</td>\n      <td>0</td>\n      <td>0</td>\n    </tr>\n    <tr>\n      <th>3</th>\n      <td>0</td>\n      <td>0</td>\n      <td>0</td>\n      <td>0</td>\n      <td>0</td>\n      <td>0</td>\n      <td>0</td>\n      <td>15-Mar-20</td>\n      <td>0</td>\n      <td>0</td>\n      <td>...</td>\n      <td>0</td>\n      <td>Confirmed</td>\n      <td>2</td>\n      <td>0</td>\n      <td>0</td>\n      <td>27</td>\n      <td>0</td>\n      <td>1</td>\n      <td>0</td>\n      <td>0</td>\n    </tr>\n    <tr>\n      <th>4</th>\n      <td>0</td>\n      <td>0</td>\n      <td>0</td>\n      <td>0</td>\n      <td>0</td>\n      <td>0</td>\n      <td>0</td>\n      <td>15-Mar-20</td>\n      <td>0</td>\n      <td>1</td>\n      <td>...</td>\n      <td>0</td>\n      <td>Recovered</td>\n      <td>1</td>\n      <td>0</td>\n      <td>0</td>\n      <td>4</td>\n      <td>0</td>\n      <td>0</td>\n      <td>0</td>\n      <td>0</td>\n    </tr>\n  </tbody>\n</table>\n<p>5 rows × 41 columns</p>\n</div>"
     },
     "metadata": {},
     "execution_count": 93
    }
   ],
   "source": [
    "#Preparing Data Frame\n",
    "print(states_daily['states_daily'][0].keys())\n",
    "#Getting Columns\n",
    "columnNames = list(states_daily['states_daily'][0].keys())\n",
    "print(columnNames)\n",
    "len(states_daily['states_daily'])\n",
    "#Getting Each Instanes\n",
    "rows = [list(states_daily['states_daily'][i].values()) for i in range(len(states_daily['states_daily']))]\n",
    "rowsArray = np.array(rows)\n",
    "dataframe = pd.DataFrame(data= rowsArray, columns= columnNames)\n",
    "dataframe.head(5)"
   ]
  },
  {
   "cell_type": "code",
   "execution_count": 95,
   "metadata": {
    "tags": []
   },
   "outputs": [
    {
     "output_type": "stream",
     "name": "stdout",
     "text": "['ap', 'ar', 'as', 'br', 'ch', 'ct', 'ga', 'gj', 'hp', 'hr', 'jh', 'ka', 'kl', 'mh', 'ml', 'mn', 'mp', 'mz', 'nl', 'or', 'pb', 'rj', 'sk', 'tg', 'tn', 'tr', 'up', 'ut', 'wb']\n"
    }
   ],
   "source": [
    "#Preprocessing of Data\n",
    "arr = columnNames[0:]\n",
    "arr.remove('date')\n",
    "arr.remove('status')\n",
    "for item in arr:\n",
    "    dataframe[item] = dataframe[item].astype(int)\n",
    "\n",
    "dataframe['date'] = pd.to_datetime(dataframe['date'])\n",
    "filterStatusConfirmed = dataframe.loc[dataframe['status'] == 'Confirmed']\n",
    "filterStatusRecovered = dataframe.loc[dataframe['status'] == 'Recovered']\n",
    "filterStatusDeceased = dataframe.loc[dataframe['status'] == 'Deceased']\n",
    "union_terr=['dl','an','jk','la','dn','py','cg','ld',] \n",
    "state=[]\n",
    "for item in arr:\n",
    "    if item in union_terr or item=='un' or item=='dd' or item=='tt':\n",
    "        continue\n",
    "    state.append(item)\n",
    "print(state)\n",
    "#filterStatusDeceased.head(5)"
   ]
  },
  {
   "cell_type": "code",
   "execution_count": 18,
   "metadata": {
    "tags": []
   },
   "outputs": [
    {
     "output_type": "stream",
     "name": "stdout",
     "text": "an  ap  ar  as  br  ch  ct       date  dd  dl  ...  sk     status  tg  tn  \\\n1    0   0   0   0   0   0   0 2020-03-14   0   1  ...   0  Recovered   0   0   \n4    0   0   0   0   0   0   0 2020-03-15   0   1  ...   0  Recovered   1   0   \n7    0   0   0   0   0   0   0 2020-03-16   0   0  ...   0  Recovered   0   1   \n10   0   0   0   0   0   0   0 2020-03-17   0   0  ...   0  Recovered   0   0   \n13   0   0   0   0   0   0   0 2020-03-18   0   0  ...   0  Recovered   0   0   \n\n    tr  tt  un  up  ut  wb  \n1    0   9   0   4   0   0  \n4    0   4   0   0   0   0  \n7    0   1   0   0   0   0  \n10   0   1   0   1   0   0  \n13   0   0   0   0   0   0  \n\n[5 rows x 41 columns]\nConfirmed:4110211 \nRecovered : 3177666\nDeceased : 70094\n"
    }
   ],
   "source": [
    "#Answer1_1  (If we get date from user and pass that date while comparing it is genralized)\n",
    "marchToSept1_Confirmed = filterStatusConfirmed[(filterStatusConfirmed['date'] >= '2020-03-14') & (filterStatusConfirmed['date'] <= '2020-09-05')]\n",
    "marchToSept1_Recovered= filterStatusRecovered[(filterStatusRecovered['date'] >= '2020-03-14') & (filterStatusRecovered['date'] <= '2020-09-05')]\n",
    "marchToSept1_Deceased = filterStatusDeceased[(filterStatusDeceased['date'] >= '2020-03-14') & (filterStatusDeceased['date'] <= '2020-09-05')]\n",
    "print(\"Confirmed:{0} \\nRecovered : {1}\\nDeceased : {2}\".format(marchToSept1_Confirmed['tt'].sum() , marchToSept1_Recovered['tt'].sum() , marchToSept1_Deceased['tt'].sum() ))"
   ]
  },
  {
   "cell_type": "code",
   "execution_count": 20,
   "metadata": {
    "scrolled": true,
    "tags": []
   },
   "outputs": [
    {
     "output_type": "stream",
     "name": "stdout",
     "text": "Confirmed:188193 \nRecovered : 163785\nDeceased : 4538\n"
    }
   ],
   "source": [
    "#Answer1_2\n",
    "print(\"Confirmed:{0} \\nRecovered : {1}\\nDeceased : {2}\".format(marchToSept1_Confirmed['dl'].sum() , marchToSept1_Recovered['dl'].sum() , marchToSept1_Deceased['dl'].sum() ))"
   ]
  },
  {
   "cell_type": "code",
   "execution_count": 23,
   "metadata": {
    "tags": []
   },
   "outputs": [
    {
     "output_type": "stream",
     "name": "stdout",
     "text": "Total Confirmed Cases in Delhi and Maharashtra  = 1072055\n Total Confirmed Cases in Delhi and Maharashtra  = 800359\n Total Confirmed Cases in Delhi and Maharashtra  = 30813\n"
    }
   ],
   "source": [
    "#Answer1_3\n",
    "print(\" Total Confirmed Cases in Delhi and Maharashtra  = {}\".format(marchToSept1_Confirmed['dl'].sum() + marchToSept1_Confirmed['mh'].sum()))\n",
    "print(\" Total Recovered Cases in Delhi and Maharashtra  = {}\".format(marchToSept1_Recovered['dl'].sum() + marchToSept1_Recovered['mh'].sum()))\n",
    "print(\" Total Deceased Cases in Delhi and Maharashtra  = {}\".format(marchToSept1_Deceased['dl'].sum() + marchToSept1_Deceased['mh'].sum()))\n",
    "\n"
   ]
  },
  {
   "cell_type": "code",
   "execution_count": 45,
   "metadata": {
    "tags": []
   },
   "outputs": [
    {
     "output_type": "stream",
     "name": "stdout",
     "text": "Highest Infected State is 'mh'' with total number of Confirmed cases 883862\nHighest Recovered Person State is 'mh'' with total number of Recoverd cases 636574\nHighest Infected State is 'mh' with total number of Deac cases 26275\n"
    }
   ],
   "source": [
    "#Answer 1_4\n",
    "\n",
    "max1 = 0\n",
    "max2 = 0\n",
    "max3 = 0\n",
    "\n",
    "state_conf = ''\n",
    "state_rec = ''\n",
    "state_dec = ''\n",
    "for item in arr:\n",
    "    if item=='tt' or item in union_terr or item== 'un':\n",
    "        continue\n",
    "    count_conf = marchToSept1_Confirmed[item].sum()\n",
    "    count_rec = marchToSept1_Recovered[item].sum()\n",
    "    count_dec = marchToSept1_Deceased[item].sum()\n",
    "    if count_conf > max1:\n",
    "        max1 = count_conf\n",
    "        state_conf = item\n",
    "    if count_rec > max2:\n",
    "        max2 = count_rec\n",
    "        state_rec = item\n",
    "    if count_dec > max3:\n",
    "        max3 = count_dec\n",
    "        state_dec = item\n",
    "print(\"Highest Infected State is '{0}'' with total number of Confirmed cases {1}\".format(state_conf,max1))\n",
    "print(\"Highest Recovered Person State is '{0}'' with total number of Recoverd cases {1}\".format(state_rec,max2))\n",
    "print(\"Highest Infected State is '{0}' with total number of Deac cases {1}\".format(state_dec,max3))\n",
    "\n"
   ]
  },
  {
   "cell_type": "code",
   "execution_count": 90,
   "metadata": {
    "tags": []
   },
   "outputs": [
    {
     "output_type": "stream",
     "name": "stdout",
     "text": "Lowest Infected State is 'mz'' with total number of Confirmed cases 1062\nLowest Recovered Person's State is 'mz'' with total number of Recoverd cases 713\nLowest Infected State is 'mz' with total number of Deac cases 0\n"
    }
   ],
   "source": [
    "#Answer 1_5\n",
    "min1 = float('inf')\n",
    "min2 = float('inf')\n",
    "min3 = float('inf')\n",
    "arr.remove('dd') # Daman and Diu will merge into Dadra and Nagar Haveli\n",
    "l_state_conf = ''\n",
    "l_state_rec = ''\n",
    "l_state_dec = ''\n",
    "for item in arr:\n",
    "    if item =='tt' or item in union_terr or item =='un':\n",
    "        continue\n",
    "    count_conf = marchToSept1_Confirmed[item].sum()\n",
    "    count_rec = marchToSept1_Recovered[item].sum()\n",
    "    count_dec = marchToSept1_Deceased[item].sum()\n",
    "    if count_conf < min1:\n",
    "        min1 = count_conf\n",
    "        l_state_conf = item\n",
    "    if count_rec < min2:\n",
    "        min2 = count_rec\n",
    "        l_state_rec = item\n",
    "    if count_dec < min3:\n",
    "        min3 = count_dec\n",
    "        l_state_dec = item\n",
    "\n",
    "print(\"Lowest Infected State is '{0}'' with total number of Confirmed cases {1}\".format(l_state_conf,min1))\n",
    "print(\"Lowest Recovered Person's State is '{0}'' with total number of Recoverd cases {1}\".format(l_state_rec,min2))\n",
    "print(\"Lowest Infected State is '{0}' with total number of Deac cases {1}\".format(l_state_dec,min3))"
   ]
  },
  {
   "cell_type": "code",
   "execution_count": 88,
   "metadata": {
    "tags": []
   },
   "outputs": [
    {
     "output_type": "stream",
     "name": "stdout",
     "text": "Highest Number of Confirmed cases in a Single day in Delhi is 3947 on 2020-06-23\nHighest Number of Recovered cases in a Single day in Delhi is 7725 on 2020-06-20\nHighest Number of Deceased cases in a Single day in Delhi is 437 on 2020-06-16\n"
    }
   ],
   "source": [
    "\n",
    "#Answer 1_6\n",
    "index_max_con=marchToSept1_Confirmed['dl'].idxmax()\n",
    "index_max_rec=marchToSept1_Recovered['dl'].idxmax()\n",
    "index_max_dec=marchToSept1_Deceased['dl'].idxmax()\n",
    "\n",
    "date_conf=marchToSept1_Confirmed.at[index_max_con,'date']\n",
    "date_conf=date_conf.date()\n",
    "date_rec=marchToSept1_Recovered.at[index_max_rec,'date']\n",
    "date_rec=date_rec.date()\n",
    "date_dec=marchToSept1_Deceased.at[index_max_dec,'date']\n",
    "date_dec=date_dec.date()\n",
    "\n",
    "\n",
    "print(\"Highest Number of Confirmed cases in a Single day in Delhi is {0} on {1}\".format(marchToSept1_Confirmed['dl'].max(),date_conf))\n",
    "print(\"Highest Number of Recovered cases in a Single day in Delhi is {0} on {1}\".format(marchToSept1_Recovered['dl'].max(),date_rec))\n",
    "print(\"Highest Number of Deceased cases in a Single day in Delhi is {0} on {1}\".format(marchToSept1_Deceased['dl'].max(),date_dec))"
   ]
  },
  {
   "cell_type": "code",
   "execution_count": 99,
   "metadata": {
    "tags": []
   },
   "outputs": [
    {
     "output_type": "stream",
     "name": "stdout",
     "text": "['ap', 'ar', 'as', 'br', 'ch', 'ct', 'ga', 'gj', 'hp', 'hr', 'jh', 'ka', 'kl', 'mh', 'ml', 'mn', 'mp', 'mz', 'nl', 'or', 'pb', 'rj', 'sk', 'tg', 'tn', 'tr', 'up', 'ut', 'wb']\n 'ap' :: 100880 \n 'ar' :: 1525 \n 'as' :: 28404 \n 'br' :: 16735 \n 'ch' :: 2143 \n 'ct' :: 22320 \n 'ga' :: 4945 \n 'gj' :: 16266 \n 'hp' :: 2023 \n 'hr' :: 14912 \n 'jh' :: 14980 \n 'ka' :: 100224 \n 'kl' :: 21867 \n 'mh' :: 221013 \n 'ml' :: 1374 \n 'mn' :: 1872 \n 'mp' :: 15687 \n 'mz' :: 349 \n 'nl' :: 701 \n 'or' :: 25856 \n 'pb' :: 15870 \n 'rj' :: 14996 \n 'sk' :: 561 \n 'tg' :: 32405 \n 'tn' :: 51580 \n 'tr' :: 5905 \n 'up' :: 59963 \n 'ut' :: 7649 \n 'wb' :: 23390 \n"
    }
   ],
   "source": [
    "#answer 1_7\n",
    "print(state)\n",
    "for s in state:\n",
    "    sum_conf = marchToSept1_Confirmed[s].sum()\n",
    "    sum_rec = marchToSept1_Recovered[s].sum()\n",
    "    sum_dec = marchToSept1_Deceased[s].sum()\n",
    "    active=sum_conf -(sum_rec + sum_dec)\n",
    "    print(\" '{0}' :: {1} \".format(s,active))\n",
    "\n",
    "    "
   ]
  }
 ],
 "metadata": {
  "kernelspec": {
   "display_name": "Python 3",
   "language": "python",
   "name": "python3"
  },
  "language_info": {
   "codemirror_mode": {
    "name": "ipython",
    "version": 3
   },
   "file_extension": ".py",
   "mimetype": "text/x-python",
   "name": "python",
   "nbconvert_exporter": "python",
   "pygments_lexer": "ipython3",
   "version": "3.8.5-final"
  }
 },
 "nbformat": 4,
 "nbformat_minor": 2
}